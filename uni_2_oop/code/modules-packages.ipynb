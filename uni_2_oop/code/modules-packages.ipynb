{
 "cells": [
  {
   "cell_type": "markdown",
   "metadata": {},
   "source": [
    "# Ejemplo. Clases.\n",
    "\n",
    "## 1. Objetivo(s)\n",
    "\n",
    "* Entender al implemenación módulos y paquetes.\n",
    "* Entender el uso de import absolutos y relativos.\n",
    "\n",
    "## 2. Desarrollo:"
   ]
  },
  {
   "cell_type": "markdown",
   "metadata": {},
   "source": [
    "En programas pequeños es normal colocar todas las clases en un solo archivo y al final agregar un pequeño __script__ para interactuar. Sin embargo, en proyectos más grandes lo correcto es utilizar __módulos__.\n",
    "\n",
    "Lo modulos son archivos de Python. El nombre del __módulo__ Python es la raíz del archivo, es decir, el nombre del archivo sin el sufijo `.py`. Un archivo llamado `model.py` es un módulo llamado `model`. Los archivos de módulo son encontrados mediante una ruta que incluye el directorio local y el paquete a instalar.\n",
    "\n",
    "La sentencia `import` es utilizada para importar módulos o clases específicas, o funciones. \n",
    "\n",
    "Un __paquete__ es una colección de móduos en un directorio. El nombre del paquete es el nombre del folder. Es necesario indicar a Python en que carpetas esta el paquete para distinguirlo de otras carpetas en el directorio. Para hacer esto, se coloca un archivo (normalmente vacío) en el folder con el nombre `__init__.py`. Si no se coloca este archivo, no será posible importar los módulos de estos paquetes.\n",
    "\n",
    "Por ejemplo, si se considera la siguiente estructura para un proyecto:\n",
    "\n",
    "````text\n",
    "src/\n",
    " +-- main.py\n",
    " +-- ecommerce/\n",
    "     +-- __init__.py\n",
    "     +-- database.py\n",
    "     +-- products.py\n",
    "     +-- payments/\n",
    "     |   +-- __init__.py\n",
    "     |   +-- common.py\n",
    "     |   +-- square.py\n",
    "     |   +-- stripe.py\n",
    "     +-- contact/\n",
    "         +-- __init__.py\n",
    "         +-- email.py\n",
    "````\n",
    "\n",
    "El la carpteta `src` se ecuentra todo el código fuente del proyecto. `ecommerce` es un paquete. El cual contiene los módulos `database`, `productos`, pero a su vez contiene los paquetes `payments` y `contact`."
   ]
  },
  {
   "cell_type": "markdown",
   "metadata": {},
   "source": [
    "## imports absolutos\n",
    "\n",
    "Los __absolute imports__ especifican de manera completa la ruta del modulo, o la clase que se desea importar. Po  ejemplo si desa importar la clase `Product` que esta contenida dentro del modulo `products` se pude utilizar la siguiente sintaxis:\n",
    "\n",
    "````python\n",
    "import ecommerce.products\n",
    "\n",
    "product = ecommerce.products.Products(\"name\")\n",
    "````\n",
    "\n",
    "o se puede utilizar solo la definición de la clase en particular del módulo:\n",
    "\n",
    "````python\n",
    "from ecommerce.products import Product\n",
    "\n",
    "product = Products(\"name\")\n",
    "````\n",
    "o también, se puede importar el módulo entero del paquete:\n",
    "\n",
    "````python\n",
    "from ecommerce import products\n",
    "\n",
    "product = products.Products(\"name\")\n",
    "````"
   ]
  },
  {
   "cell_type": "markdown",
   "metadata": {},
   "source": [
    "## imports relativos\n",
    "\n",
    "Los __relative imports__ idenfican a una clase, función o módulo por la posición relativa a partir del módulo actual.  Esto solo toma sentido dentro de archivos de módulo, y con una estructura de paquetes compleja.\n",
    "\n",
    "Por ejemplo, si se esta trabajando en el módulo `products` y se quiere importa la clase `Database` del módulo `database`, se puede utilizar un importación relativa.\n",
    "\n",
    "````python\n",
    "from .database import Database\n",
    "````\n",
    "\n",
    "El punto `.` antes de `database` dice: usa el módulo dentro del paquete actual. En este caso, el paquete actual es el paquete contenido dentreo del archivo `products.py` que actualmente se esta editando, es decir, el paquete `ecommerce`.\n",
    "\n",
    "Si se estuviera editando el módulo `stripe` dentro del paquete `ecommerce.payments`, se podría querer, por ejemplo, utilizar el paquete `database` dentro del paquete padre.\n",
    "\n",
    "````python\n",
    "from ..database import Database\n",
    "````\n",
    "\n",
    "Se pueden utilizar más puntos `.`para ir más allá en alguna jerarquía, pero en algun punto, es necesario reconocer que se tienen demasiados paquetes. \n",
    "\n",
    "Si se considera que se esta trabajando en el módulo `pyments.stripe`. El siguiente ejemplo sería válido para importar la función `send_mail` que esta contenida en el módulo `email` del paquete `ecommerce.contact`\n",
    "\n",
    "````python\n",
    "from ..contact.email import send_mail\n",
    "````"
   ]
  },
  {
   "cell_type": "markdown",
   "metadata": {},
   "source": []
  },
  {
   "cell_type": "code",
   "execution_count": null,
   "metadata": {},
   "outputs": [],
   "source": [
    "pass"
   ]
  }
 ],
 "metadata": {
  "language_info": {
   "name": "python"
  }
 },
 "nbformat": 4,
 "nbformat_minor": 2
}
