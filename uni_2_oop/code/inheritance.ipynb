{
 "cells": [
  {
   "cell_type": "markdown",
   "metadata": {},
   "source": [
    "# Ejemplo. Herencia.\n",
    "\n",
    "## 1. Objetivo(s)\n",
    "\n",
    "* Entender la implemenación herencia simple.\n",
    "* Utilizar herencia para extender las funcionalidad de clases built-in de Python.\n",
    "* Utilizar la sobreescritura de métodos y `__super()__`.\n",
    "\n",
    "## 2. Desarrollo:"
   ]
  },
  {
   "cell_type": "markdown",
   "metadata": {},
   "source": [
    "A continuación se muestra un ejemplo donde se implementa la herencia. Se proponr realiazar un administrador de contactos que registre nombres y correo electrónico de muchas personas. La clase `Contact` es responsable de mantener una lista de todos los contactos."
   ]
  },
  {
   "cell_type": "code",
   "execution_count": 1,
   "metadata": {},
   "outputs": [],
   "source": [
    "from typing  import List\n",
    "\n",
    "class Contact():\n",
    "\n",
    "    all_contacts: List[\"Contact\"] = []\n",
    "\n",
    "    def __init__(self, name : str, email : str) -> None:\n",
    "        self.name = name\n",
    "        self.email = email\n",
    "        Contact.all_contacts.append(self)\n",
    "\n",
    "    def __repr__(self) -> str:\n",
    "        return f\"{self.__class__.__name__}({self.name}, {self.email})\""
   ]
  },
  {
   "cell_type": "markdown",
   "metadata": {},
   "source": [
    "En este ejemplo se introduce el concepto de __variables de clase__. La lista `all_contacts` es parte de la definición de la clases, pero es compartida por todas las instancias de esta clase. Si un campo no puede ser encontrada a través de `self`, entonces será encontrado en la clases y por lo tanto se referira a una sola lista.\n",
    "\n",
    "Advertencia: Si se intenta acceder a `all_contacts` mediante `self.all_contacts`, en realidad se estará creando una nueva instancia de una variable asociada con el objeto. Las variables de clase estará sin cambios y accesible a través de `Contacs.all_contacts`"
   ]
  },
  {
   "cell_type": "code",
   "execution_count": 2,
   "metadata": {},
   "outputs": [
    {
     "data": {
      "text/plain": [
       "[Contact(Dusty, dusty@example.com), Contact(Brayan, elbrayan@itmaybeahack.com)]"
      ]
     },
     "execution_count": 2,
     "metadata": {},
     "output_type": "execute_result"
    }
   ],
   "source": [
    "c_1 = Contact(\"Dusty\", \"dusty@example.com\")\n",
    "c_2 = Contact(\"Brayan\", \"elbrayan@itmaybeahack.com\")\n",
    "\n",
    "Contact.all_contacts\n"
   ]
  },
  {
   "cell_type": "markdown",
   "metadata": {},
   "source": [
    "Para ejemploficar la herencia, supongamos que se tiene un tipo de contacto `Supplier` al cual se le puede solicitar una orden. Si se define el método `order()` en la clase `Contact`se podría cometer el error de realizar una orden a otro tipo de contacto como: un amigo, cliente, familia, etc. Por lo que, se creara una clase `Supplier` que actua como la clase `Contact` pero que en adición cuenta con un método `order`.\n"
   ]
  },
  {
   "cell_type": "code",
   "execution_count": 3,
   "metadata": {},
   "outputs": [],
   "source": [
    "class Supplier(Contact):\n",
    "    def order(self, order : \"Order\") -> None:\n",
    "        print(f\"{order} order to {self.name}\")"
   ]
  },
  {
   "cell_type": "code",
   "execution_count": 6,
   "metadata": {},
   "outputs": [
    {
     "name": "stdout",
     "output_type": "stream",
     "text": [
      "Contact(Dusty, dust@email.com) Supplier(Steve, steve@email.com)\n"
     ]
    }
   ],
   "source": [
    "c_1 = Contact(\"Dusty\", \"dust@email.com\")\n",
    "s_1 = Supplier(\"Steve\", \"steve@email.com\")\n",
    "\n",
    "print(c_1, s_1)"
   ]
  },
  {
   "cell_type": "code",
   "execution_count": 7,
   "metadata": {},
   "outputs": [
    {
     "name": "stdout",
     "output_type": "stream",
     "text": [
      "[Contact(Dusty, dusty@example.com), Contact(Brayan, elbrayan@itmaybeahack.com), Contact(Dusty, dust@email.com), Supplier(Steve, steve@email.com), Contact(Dusty, dust@email.com), Supplier(Steve, steve@email.com), Contact(Dusty, dust@email.com), Supplier(Steve, steve@email.com)]\n"
     ]
    }
   ],
   "source": [
    "print(c_1.all_contacts)"
   ]
  },
  {
   "cell_type": "code",
   "execution_count": 8,
   "metadata": {},
   "outputs": [
    {
     "name": "stdout",
     "output_type": "stream",
     "text": [
      "[Contact(Dusty, dusty@example.com),\n",
      " Contact(Brayan, elbrayan@itmaybeahack.com),\n",
      " Contact(Dusty, dust@email.com),\n",
      " Supplier(Steve, steve@email.com),\n",
      " Contact(Dusty, dust@email.com),\n",
      " Supplier(Steve, steve@email.com),\n",
      " Contact(Dusty, dust@email.com),\n",
      " Supplier(Steve, steve@email.com)]\n"
     ]
    }
   ],
   "source": [
    "from pprint import pprint\n",
    "\n",
    "pprint(c_1.all_contacts)"
   ]
  },
  {
   "cell_type": "code",
   "execution_count": 9,
   "metadata": {},
   "outputs": [
    {
     "name": "stdout",
     "output_type": "stream",
     "text": [
      "I need order to Steve\n"
     ]
    }
   ],
   "source": [
    "s_1.order(\"I need\")"
   ]
  },
  {
   "cell_type": "code",
   "execution_count": 10,
   "metadata": {},
   "outputs": [
    {
     "ename": "AttributeError",
     "evalue": "'Contact' object has no attribute 'order'",
     "output_type": "error",
     "traceback": [
      "\u001b[0;31m---------------------------------------------------------------------------\u001b[0m",
      "\u001b[0;31mAttributeError\u001b[0m                            Traceback (most recent call last)",
      "Cell \u001b[0;32mIn[10], line 1\u001b[0m\n\u001b[0;32m----> 1\u001b[0m c_1\u001b[38;5;241m.\u001b[39morder(\u001b[38;5;124m\"\u001b[39m\u001b[38;5;124mI need\u001b[39m\u001b[38;5;124m\"\u001b[39m)\n",
      "\u001b[0;31mAttributeError\u001b[0m: 'Contact' object has no attribute 'order'"
     ]
    }
   ],
   "source": [
    "c_1.order(\"I need\")"
   ]
  },
  {
   "cell_type": "markdown",
   "metadata": {},
   "source": [
    "## Extensión de clases built-ins\n",
    "\n",
    "Uno de los aspectos prácticos de la herencia es que permite agregar funcioalidad a clases built-in de Python. Para ejemplificar, pensemos en la clase anterior `Contact` la cual permite agregar los contactos a una lista ¿Qué pasaría si se quisiera realizar una búsqueda de un nombre? Se podría agregar un método a la clase contacto para realizar la busqueda, pero en realidad este método pertenecería a la lista como tal y no a la clase `Contact`.\n",
    "\n",
    "Para resolver esto, se utilizará la herencia sobre un tipo build-in, es decir, sobre el tipo `list`.\n",
    "\n"
   ]
  },
  {
   "cell_type": "code",
   "execution_count": 11,
   "metadata": {},
   "outputs": [],
   "source": [
    "from __future__ import annotations\n",
    "\n",
    "class ContactList(list[\"Contact\"]):\n",
    "    def search(self, name: str) -> list[\"Contact\"]:\n",
    "\n",
    "        matching_contacts : list[\"Contact\"] = []\n",
    "        for contact in self:\n",
    "            if name in contact.name:\n",
    "                matching_contacts.append(contact)\n",
    "        return matching_contacts"
   ]
  },
  {
   "cell_type": "code",
   "execution_count": 12,
   "metadata": {},
   "outputs": [],
   "source": [
    "class Contact():\n",
    "\n",
    "    all_contacts = ContactList()\n",
    "\n",
    "    def __init__(self, name : str, email : str) -> None:\n",
    "        self.name = name\n",
    "        self.email = email\n",
    "        Contact.all_contacts.append(self)\n",
    "\n",
    "    def __repr__(self) -> str:\n",
    "        return f\"{self.__class__.__name__}({self.name}, {self.email})\""
   ]
  },
  {
   "cell_type": "code",
   "execution_count": 13,
   "metadata": {},
   "outputs": [
    {
     "data": {
      "text/plain": [
       "['John A', 'John B']"
      ]
     },
     "execution_count": 13,
     "metadata": {},
     "output_type": "execute_result"
    }
   ],
   "source": [
    "c1 = Contact(\"John A\", \"john@example.net\")\n",
    "c2 = Contact(\"John B\", \"john@sloop.net\")\n",
    "c1 = Contact(\"Jenna C\", \"cutty@sark.io\")\n",
    "\n",
    "[c.name for c in Contact.all_contacts.search('John')]"
   ]
  },
  {
   "cell_type": "markdown",
   "metadata": {},
   "source": [
    "# Sobreescritura y `__super_()`\n",
    "\n",
    "La herencia permite crear una nueva clase (hija) tomando como base otra clase (padre), y agregar nuevas funcionalidades a la clase hija. Sin embargo, en algunas ocasiones será necesario realizar cambio de comportamientos. Por ejemplo, en la clase `Contact` solo permite el nombre y dirección de correo. Pero si quisieramos agregar un número de telefono para los amigos ¿Cómo resolver este problema?\n",
    "\n",
    "A continuación se muestra la definición de una clase `Friend` la cual sobreescribe el comportamiento del método `__init__()`. Sobreescrbir significa alterar o reemplazar el comportamiento de la superclase o clase padre con un nuevo método (con el mismo nombre) en la subclase o clase hija."
   ]
  },
  {
   "cell_type": "code",
   "execution_count": 14,
   "metadata": {},
   "outputs": [],
   "source": [
    "class Friend(Contact):\n",
    "    def __init__(self, name: str, email: str, phone: str) -> None:\n",
    "        self.name = name\n",
    "        self.email = email\n",
    "        self.phone = phone"
   ]
  },
  {
   "cell_type": "markdown",
   "metadata": {},
   "source": [
    "Recuerda que cualquier método puede ser sobreescrito, no solo `__init__()`. Sin embargo, antes de continuar, consideremos que existe un problema en este ejemplo anterior. Las clases `Contact` y `Friend` tiene código duplicado al momento de asignar valores a las propiedades `name` y `email`. Recordemos que el código duplicado causa problemas en el mantenimiento ya que se tiene que modificar código en dos o más lugares. En adición, la clase `Friend` no esta agregando los objetos a las lista `all_contacts` como lo hace `Contact`. Por último, se considera el diseño hacia atrás de `Contact`, queremos que las nuevas características se agregen a la clase `Friend`.\n",
    "\n",
    "La solución es ejecutar el método `__init__()` original de la clase `Contact` dentro de la nueva clase. Esto se puede realizar mediante la función `super()`, la cual retorna el objeto como si fuera instanciado a partir de la clase padre, permitiendo realizar la llamdad de cual quier método padre de forma directa."
   ]
  },
  {
   "cell_type": "code",
   "execution_count": 15,
   "metadata": {},
   "outputs": [],
   "source": [
    "class Friend(Contact):\n",
    "    def __init__(self, name: str, email: str, phone: str) -> None:\n",
    "        super().__init__(name, email)\n",
    "        self.phone = phone\n",
    "        \n",
    "    def __repr__(self) -> str:\n",
    "        return f\"{self.__class__.__name__}({self.name}, {self.email}, {self.phone})\""
   ]
  },
  {
   "cell_type": "markdown",
   "metadata": {},
   "source": [
    "En este ejemplo anterior, aprovechamos para sobre escribir el método `__repr__()` para que se imprima una representación en cadena de los objetos de tipo `Friend` con la información del teléfono."
   ]
  },
  {
   "cell_type": "code",
   "execution_count": 16,
   "metadata": {},
   "outputs": [
    {
     "data": {
      "text/plain": [
       "[Contact(John A, john@example.net),\n",
       " Contact(John B, john@sloop.net),\n",
       " Contact(Jenna C, cutty@sark.io),\n",
       " Friend(Dusty, dusty@private.com, 953123-12345)]"
      ]
     },
     "execution_count": 16,
     "metadata": {},
     "output_type": "execute_result"
    }
   ],
   "source": [
    "f = Friend(\"Dusty\", \"dusty@private.com\", \"953123-12345\")\n",
    "Contact.all_contacts"
   ]
  },
  {
   "cell_type": "markdown",
   "metadata": {},
   "source": [
    "Nota: Para estudiantes más experimentados, se recomienda investigar sobre la implementación de herencia multiple. (pa-95)."
   ]
  }
 ],
 "metadata": {
  "kernelspec": {
   "display_name": "base",
   "language": "python",
   "name": "python3"
  },
  "language_info": {
   "codemirror_mode": {
    "name": "ipython",
    "version": 3
   },
   "file_extension": ".py",
   "mimetype": "text/x-python",
   "name": "python",
   "nbconvert_exporter": "python",
   "pygments_lexer": "ipython3",
   "version": "3.12.2"
  }
 },
 "nbformat": 4,
 "nbformat_minor": 2
}
