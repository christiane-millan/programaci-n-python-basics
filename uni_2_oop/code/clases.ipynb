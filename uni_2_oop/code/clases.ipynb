{
 "cells": [
  {
   "cell_type": "markdown",
   "metadata": {},
   "source": [
    "# Ejemplo. Clases.\n",
    "\n",
    "## 1. Objetivo(s)\n",
    "\n",
    "* Entender al implemenación de atributos y comportamientos de una clase.\n",
    "* Entender el uso de `self`. \n",
    "* Entender el uso de `__init__()`.\n",
    "* Entender el uso de __type hints__ y valores por defecto para `__init__()`.\n",
    "* Ejemplos de documentación __docstring__.\n",
    "\n",
    "## 2. Desarrollo:"
   ]
  },
  {
   "cell_type": "markdown",
   "metadata": {},
   "source": [
    "En el siguiente ejemplo se muestra una clase que representa un punto 2D:"
   ]
  },
  {
   "cell_type": "code",
   "execution_count": null,
   "metadata": {},
   "outputs": [],
   "source": [
    "import math \n",
    "\n",
    "class Point():\n",
    "    def __init__(self, x = 0, y = 0):\n",
    "        self.move(x, y)\n",
    "\n",
    "    def move(self, x, y):\n",
    "        self.x = x\n",
    "        self.y = y\n",
    "\n",
    "    def reset(self):\n",
    "        self.move(0, 0)\n",
    "\n",
    "    def calculate_distance(self, other):\n",
    "        return math.hypot(self.x . other.x, self.y - other.y)"
   ]
  },
  {
   "cell_type": "markdown",
   "metadata": {},
   "source": [
    "## Uso de _self_\n",
    "\n",
    "La diferencia sintáctica entre un método y una función en Python, es que los métodos requieren un argumento. Este argumento es `self` por conveniencia. El argumento `self` de un método es una referencia al objeto del método que ha sido invocado. El objeto obviamente es una instancia de una clase, y en ocasiones es llamada la variable de instancia.\n",
    "\n",
    "Es posible acceder a atributos y métodos mediente `self`. Ejemplo:`self.move(x, y)`.\n",
    "\n",
    "## Inicialización de un objeto\n",
    "\n",
    "En lenguajes de programación orientados a objetos es común tener un constructor que crea e inicializa el objeto. En Python, se tiene un constructor `__new__()` y un inicializador `__init__()`. El constructo es muy raro de utilizar. Sin embargo, el métoo de inicialización (observar que utiliza dobre guión bajo) permite especificar los valores inicialies de los atributos `x` y `y`. \n",
    "\n",
    "Es importante asegurar que todos los atributos esten inicializados en el método `__init__()`, de esta forma se fácilita leer el código y no tener que leer la implementación de la clase completa para descubir atributos _misteriosos_."
   ]
  },
  {
   "cell_type": "markdown",
   "metadata": {},
   "source": [
    "## Type hints y valores por default\n",
    "\n",
    "El objetivo de la programación orientada a objetos es resolver un problema mediante la interacción de objetos. Existen dos reglas principales en como Python trabaja con los objetos:\n",
    "\n",
    "* Todo en Python es un objeto\n",
    "* Cada objeto esta definido por ser la instancia de por lo menos una clase.\n",
    "\n",
    "La declaración de una clase permite definir un nuevo tipo.\n",
    "\n",
    "Los __type hints__ o sugerencias de tipo es una notación que se utiliza para acompañar la declaración de una clase. Las sugerencias son ignoradas, por lo que son opcionales. Sin embargo, la lectura de código se facilita, y agrega información adicional al código.\n",
    "\n",
    "A continuación se muestra el ejemplo de la clase `Point` con la implementación de __type hints__ y con valores por defecto:"
   ]
  },
  {
   "cell_type": "code",
   "execution_count": null,
   "metadata": {},
   "outputs": [],
   "source": [
    "import math \n",
    "\n",
    "class Point():\n",
    "    \"\"\" \n",
    "    Represents a point in two-dimensional geometric coordinates \n",
    "\n",
    "    >>> p_0 = Point()\n",
    "    >>> p_1 = Point(3, 4)\n",
    "    >>> p_0.calculate_distance()\n",
    "    5.0\n",
    "    \"\"\"\n",
    "    \n",
    "    def __init__(self, x : float = 0, y : float = 0) -> None:\n",
    "        \"\"\"\n",
    "        Initialize the position of a new point. The x and y\n",
    "        coordinates can be specified. If they are not, the\n",
    "        point defaults to the origin.\n",
    "\n",
    "        :param x: float x-coordinate\n",
    "        :param y: float y-coordinate\n",
    "        \"\"\"\n",
    "        self.move(x, y)\n",
    "\n",
    "    def move(self, x : float, y: float) -> None:\n",
    "        \"\"\"\n",
    "        Move the point a new location in 2D space.\n",
    "\n",
    "        :para x: float x-coordinate\n",
    "        :para y: float y-coordinate\n",
    "        \"\"\"\n",
    "        self.x = x\n",
    "        self.y = y\n",
    "\n",
    "    def reset(self) -> None:\n",
    "        \"\"\"\n",
    "        Move the point to a new location in 2D space.\n",
    "\n",
    "        :param x: float x-coordinate\n",
    "        :param y: float y-coordinate\n",
    "        \"\"\"\n",
    "        self.move(0, 0)\n",
    "\n",
    "    def calculate_distance(self, other: \"Point\") -> float:\n",
    "        \"\"\"\n",
    "        Calculate the Euclidean distance  from this point\n",
    "        to a second point passed as a parameter.\n",
    "\n",
    "        :param other: Point instance\n",
    "        :return: float distance\n",
    "        \"\"\"\n",
    "        return math.hypot(self.x . other.x, self.y - other.y)"
   ]
  },
  {
   "cell_type": "markdown",
   "metadata": {},
   "source": [
    "La librería __mypy__ es una herramienta utilizada para verificar la consistencia de los _hints_. Es necesario instalar por separado, ya que no esta incluida en las librerías estándar de Python. \n",
    "\n",
    "````text\n",
    "pip install mypy\n",
    "````\n",
    "o \n",
    "\n",
    "````text\n",
    "conda install mypy\n",
    "````\n",
    "\n",
    "\n"
   ]
  },
  {
   "cell_type": "markdown",
   "metadata": {},
   "source": [
    "En este ejemplo, adicional se muestra como realizar una stringdoc de una clase. Para visualizar la documentación del archivo anterior llamado `point.py`, ejecutar el siguiente comando:\n",
    "\n",
    "````text\n",
    "python -i point.py\n",
    "\n",
    ">>>help(Point)\n",
    "`````\n",
    "\n",
    "El uso de `\"\"\" \"\"\"` provee una forma de documentación para nuestro código."
   ]
  }
 ],
 "metadata": {
  "language_info": {
   "name": "python"
  }
 },
 "nbformat": 4,
 "nbformat_minor": 2
}
