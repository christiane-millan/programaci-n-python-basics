{
 "cells": [
  {
   "cell_type": "markdown",
   "metadata": {},
   "source": [
    "# Ejercicio: Implementación de clases\n",
    "\n",
    "Considerar que el profesor de su clase de programación desea realizar un sistema para el pase de lista de los diferentes cursos que imparte. En el primer paso de desea realizar lo siguiente:\n",
    "\n",
    "1. Diseñar las clases: `Stundent` y `Classroom` con sus atributos y comportamientos correspondientes en UML.\n",
    "2. Implementar el código de ambas clases en un archivo llamado: `lecture.py`"
   ]
  },
  {
   "cell_type": "code",
   "execution_count": null,
   "metadata": {},
   "outputs": [],
   "source": [
    "class Stundent():\n",
    "    pass\n",
    "\n",
    "\n",
    "class Classroom():\n",
    "    pass"
   ]
  },
  {
   "cell_type": "markdown",
   "metadata": {},
   "source": [
    "1. Para probar la implementación de la clase `Classroom` al crear una instancia de un grupo en la variable `programming`.\n",
    "\n",
    "2. Agregar varios alumnos al grupo `programming`."
   ]
  }
 ],
 "metadata": {
  "language_info": {
   "name": "python"
  }
 },
 "nbformat": 4,
 "nbformat_minor": 2
}
