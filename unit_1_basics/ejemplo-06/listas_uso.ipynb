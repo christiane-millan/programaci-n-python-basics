{
 "cells": [
  {
   "cell_type": "markdown",
   "metadata": {},
   "source": [
    "# Ejemplo 6: Uso de listas\n",
    "\n",
    "## 1. Objetivo(s)\n",
    "\n",
    "* Entender la iteración sobre los elementos de una lista\n",
    "* Aprender el uso de las listas numéricas mediante `range()`\n",
    "* Entender la implementación de los __List Comprehensions__\n",
    "* Aprender el uso de __slicing__ para trabajar con partes de una lista.\n",
    "* Apreder a copariar una lista para evitar comportamientos inesperados\n",
    "\n",
    "## 2. Desarrollo:\n",
    "\n",
    "Apatir de la definición de la siguiente lista:"
   ]
  },
  {
   "cell_type": "code",
   "execution_count": 1,
   "metadata": {},
   "outputs": [
    {
     "name": "stdout",
     "output_type": "stream",
     "text": [
      "['trek', 'specialized', 'st cruz', 'cube']\n"
     ]
    }
   ],
   "source": [
    "bicycles = ['trek', 'specialized', 'st cruz', 'cube']\n",
    "print(bicycles)"
   ]
  },
  {
   "cell_type": "markdown",
   "metadata": {},
   "source": [
    "En el siguiente ejemplo se toma cada elemento de la lista `bicycles`. En cada paso del ciclo for se toma los elementos de `bicycles` de forma secuencial y se almacenan en la variable `bicycle`. Dentro del bloque de instrucciones se imprime el valor almacena en `bicycle`."
   ]
  },
  {
   "cell_type": "code",
   "execution_count": null,
   "metadata": {},
   "outputs": [],
   "source": [
    "for bicycle in bicycles:\n",
    "    print(bicycle, 'the best' )\n",
    "\n",
    "print('hello')"
   ]
  },
  {
   "cell_type": "markdown",
   "metadata": {},
   "source": [
    "⚠️ Cuidado con los errores de identación."
   ]
  },
  {
   "cell_type": "markdown",
   "metadata": {},
   "source": [
    "__Listas numéricas__\n",
    "\n",
    "Python provee una serie de herramienas para el trabajo eficiente de listas de números. \n",
    "\n",
    "La función `range()` permite generar una serie de números. Por ejemplo, se puede utilizar `range()` para genera una serie de números del 1 al 4."
   ]
  },
  {
   "cell_type": "code",
   "execution_count": 2,
   "metadata": {},
   "outputs": [
    {
     "name": "stdout",
     "output_type": "stream",
     "text": [
      "1\n",
      "2\n",
      "3\n",
      "4\n"
     ]
    }
   ],
   "source": [
    "for value in range(1,5):\n",
    "    print(value)"
   ]
  },
  {
   "cell_type": "markdown",
   "metadata": {},
   "source": [
    "Para hacer una lista de números se utiliza la función `list()`, junto con la función `range()`. En el siguiente ejemplo se crea una lista de numéros del 1 al 4."
   ]
  },
  {
   "cell_type": "code",
   "execution_count": null,
   "metadata": {},
   "outputs": [],
   "source": [
    "numbers = list(range(1,6))\n",
    "print(numbers)"
   ]
  },
  {
   "cell_type": "markdown",
   "metadata": {},
   "source": [
    "Es posible modificar el punto de partida de la numeración y el salto entre la secuencia de números, por ejemplo:"
   ]
  },
  {
   "cell_type": "code",
   "execution_count": 4,
   "metadata": {},
   "outputs": [
    {
     "name": "stdout",
     "output_type": "stream",
     "text": [
      "[2, 4, 6, 8, 10]\n"
     ]
    }
   ],
   "source": [
    "even_numbers = list(range(2,11,2))\n",
    "print(even_numbers)"
   ]
  },
  {
   "cell_type": "markdown",
   "metadata": {},
   "source": [
    "Ejemplo: Crear una lista de los primero diez números elevados al cuadrado."
   ]
  },
  {
   "cell_type": "code",
   "execution_count": null,
   "metadata": {},
   "outputs": [],
   "source": [
    "squares = []\n",
    "for value in range(1,11):\n",
    "    square = value**2\n",
    "    squares.append(square)\n",
    "\n",
    "print(squares)"
   ]
  },
  {
   "cell_type": "markdown",
   "metadata": {},
   "source": [
    "Los __list comprehension__ son en enfoque para la generación de listas en una sola linea. En un __list comprehension__ se combina el uso del ciclo `for`y la creación de nuevos elementos en una sola línea y automáticamente son agreados. "
   ]
  },
  {
   "cell_type": "code",
   "execution_count": 5,
   "metadata": {},
   "outputs": [
    {
     "name": "stdout",
     "output_type": "stream",
     "text": [
      "[1, 4, 9, 16, 25, 36, 49, 64, 81, 100]\n"
     ]
    }
   ],
   "source": [
    "squares = [value**2 for value in range(1,11)]\n",
    "print(squares)"
   ]
  },
  {
   "cell_type": "markdown",
   "metadata": {},
   "source": [
    "__Slicing__\n",
    "\n",
    "El uso de _slicing_ permite obener parte de una lista al especificar el inidice incial y del último elemento a utilizar.\n",
    "\n",
    "Se puede obtener el segundo, tercer y cuarto elemento de la lista `bicycles`"
   ]
  },
  {
   "cell_type": "code",
   "execution_count": 6,
   "metadata": {},
   "outputs": [
    {
     "name": "stdout",
     "output_type": "stream",
     "text": [
      "['specialized', 'st cruz', 'cube']\n"
     ]
    }
   ],
   "source": [
    "bicycles = ['trek', 'specialized', 'st cruz', 'cube', 'giant', 'alubike']\n",
    "print(bicycles[1:4])"
   ]
  },
  {
   "cell_type": "markdown",
   "metadata": {},
   "source": [
    "Si se omite el prirmer índice, Python inicia con el índice 0. Y si se omite el segundo indice, Python toma hasta el último elemento de la lista."
   ]
  },
  {
   "cell_type": "code",
   "execution_count": 7,
   "metadata": {},
   "outputs": [
    {
     "name": "stdout",
     "output_type": "stream",
     "text": [
      "['trek', 'specialized', 'st cruz', 'cube']\n"
     ]
    }
   ],
   "source": [
    "print(bicycles[:4])"
   ]
  },
  {
   "cell_type": "code",
   "execution_count": 8,
   "metadata": {},
   "outputs": [
    {
     "name": "stdout",
     "output_type": "stream",
     "text": [
      "['cube', 'giant', 'alubike']\n"
     ]
    }
   ],
   "source": [
    "print(bicycles[3:])"
   ]
  },
  {
   "cell_type": "markdown",
   "metadata": {},
   "source": [
    "Tambiés es posble manejar índices negativos, los cuales toman como partida el final de la lista."
   ]
  },
  {
   "cell_type": "code",
   "execution_count": 9,
   "metadata": {},
   "outputs": [
    {
     "name": "stdout",
     "output_type": "stream",
     "text": [
      "['st cruz', 'cube', 'giant', 'alubike']\n"
     ]
    }
   ],
   "source": [
    "print(bicycles[-4:])"
   ]
  },
  {
   "cell_type": "markdown",
   "metadata": {},
   "source": [
    "Es posible realizar iteraciones sobre un __slice__:"
   ]
  },
  {
   "cell_type": "code",
   "execution_count": 10,
   "metadata": {},
   "outputs": [
    {
     "name": "stdout",
     "output_type": "stream",
     "text": [
      "Trek\n",
      "Specialized\n",
      "St Cruz\n"
     ]
    }
   ],
   "source": [
    "for bicycle in bicycles[:3]:\n",
    "    print(bicycle.title()) "
   ]
  },
  {
   "cell_type": "markdown",
   "metadata": {},
   "source": [
    "__Copia de una lista__\n",
    "\n",
    "El problema de la copiar una lista con una asingación `=`:"
   ]
  },
  {
   "cell_type": "code",
   "execution_count": 12,
   "metadata": {},
   "outputs": [],
   "source": [
    "my_foods = ['pizza', 'falafel', 'cake']\n",
    "friend_foods = my_foods"
   ]
  },
  {
   "cell_type": "code",
   "execution_count": 13,
   "metadata": {},
   "outputs": [
    {
     "name": "stdout",
     "output_type": "stream",
     "text": [
      "['pizza', 'falafel', 'cake']\n",
      "['pizza', 'falafel', 'cake']\n"
     ]
    }
   ],
   "source": [
    "print(my_foods)\n",
    "print(friend_foods)"
   ]
  },
  {
   "cell_type": "code",
   "execution_count": 14,
   "metadata": {},
   "outputs": [],
   "source": [
    "my_foods.append('hotdogs')\n",
    "friend_foods.append('pletzel')"
   ]
  },
  {
   "cell_type": "code",
   "execution_count": 15,
   "metadata": {},
   "outputs": [
    {
     "name": "stdout",
     "output_type": "stream",
     "text": [
      "['pizza', 'falafel', 'cake', 'hotdogs', 'pletzel']\n",
      "['pizza', 'falafel', 'cake', 'hotdogs', 'pletzel']\n"
     ]
    }
   ],
   "source": [
    "print(my_foods)\n",
    "print(friend_foods)"
   ]
  },
  {
   "cell_type": "markdown",
   "metadata": {},
   "source": [
    "Para evitar este problema es necesario realizar una copia de la lista `my_foods` mediante __slincing__."
   ]
  },
  {
   "cell_type": "code",
   "execution_count": 16,
   "metadata": {},
   "outputs": [
    {
     "name": "stdout",
     "output_type": "stream",
     "text": [
      "['pizza', 'falafel', 'cake']\n",
      "['pizza', 'falafel', 'cake']\n"
     ]
    }
   ],
   "source": [
    "my_foods = ['pizza', 'falafel', 'cake']\n",
    "friend_foods = my_foods[:]\n",
    "\n",
    "print(my_foods)\n",
    "print(friend_foods)"
   ]
  },
  {
   "cell_type": "code",
   "execution_count": 17,
   "metadata": {},
   "outputs": [
    {
     "name": "stdout",
     "output_type": "stream",
     "text": [
      "['pizza', 'falafel', 'cake', 'hotdogs']\n",
      "['pizza', 'falafel', 'cake', 'pletzel']\n"
     ]
    }
   ],
   "source": [
    "my_foods.append('hotdogs')\n",
    "friend_foods.append('pletzel')\n",
    "\n",
    "print(my_foods)\n",
    "print(friend_foods)"
   ]
  }
 ],
 "metadata": {
  "kernelspec": {
   "display_name": "base",
   "language": "python",
   "name": "python3"
  },
  "language_info": {
   "codemirror_mode": {
    "name": "ipython",
    "version": 3
   },
   "file_extension": ".py",
   "mimetype": "text/x-python",
   "name": "python",
   "nbconvert_exporter": "python",
   "pygments_lexer": "ipython3",
   "version": "3.12.2"
  }
 },
 "nbformat": 4,
 "nbformat_minor": 2
}
