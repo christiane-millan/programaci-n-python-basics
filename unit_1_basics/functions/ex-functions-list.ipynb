{
 "cells": [
  {
   "cell_type": "markdown",
   "metadata": {},
   "source": [
    "# Ejemplo. Uso de listas como parámetros de funciones.\n",
    "\n",
    "## 1. Objetivo(s)\n",
    "\n",
    "* Entender el paso de parámetros en funciones\n",
    "* Ejemplos de retorno de valores simples.\n",
    "\n",
    "## 2. Desarrollo:"
   ]
  },
  {
   "cell_type": "code",
   "execution_count": null,
   "metadata": {},
   "outputs": [],
   "source": []
  }
 ],
 "metadata": {
  "language_info": {
   "name": "python"
  }
 },
 "nbformat": 4,
 "nbformat_minor": 2
}
