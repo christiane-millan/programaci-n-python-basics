{
 "cells": [
  {
   "cell_type": "markdown",
   "metadata": {},
   "source": [
    "# Ejemplo. Funciones.\n",
    "\n",
    "## 1. Objetivo(s)\n",
    "\n",
    "* Entender el paso de parámetros en funciones\n",
    "* Ejemplos de retorno de valores simples.\n",
    "\n",
    "## 2. Desarrollo:"
   ]
  },
  {
   "cell_type": "markdown",
   "metadata": {},
   "source": [
    "Considerar que el siguiente función, calcula el áre de un círculo con `radio = 4`."
   ]
  },
  {
   "cell_type": "code",
   "execution_count": 6,
   "metadata": {},
   "outputs": [],
   "source": [
    "def area_circle():\n",
    "    pi = 3.14\n",
    "    return pi * 4 ** 2"
   ]
  },
  {
   "cell_type": "code",
   "execution_count": 7,
   "metadata": {},
   "outputs": [
    {
     "name": "stdout",
     "output_type": "stream",
     "text": [
      "50.24\n"
     ]
    }
   ],
   "source": [
    "print(area_circle())"
   ]
  },
  {
   "cell_type": "markdown",
   "metadata": {},
   "source": [
    "Mediante el uso de parámetros podemos generalizar el funcionamiento para cualquier tamaño de radio. Como se muestra a continuación:"
   ]
  },
  {
   "cell_type": "code",
   "execution_count": 10,
   "metadata": {},
   "outputs": [],
   "source": [
    "def area_circle(r):\n",
    "    pi = 3.14\n",
    "    return pi * r ** 2"
   ]
  },
  {
   "cell_type": "markdown",
   "metadata": {},
   "source": [
    "En la nueva defición de la función se requiere el __parámetro__ `r` para que la función realice su trabajo. En el siguiente _code snippet_ se muestra como en la llamada de la función se utilizar el número `13` como __argumento__."
   ]
  },
  {
   "cell_type": "code",
   "execution_count": 11,
   "metadata": {},
   "outputs": [
    {
     "name": "stdout",
     "output_type": "stream",
     "text": [
      "530.66\n"
     ]
    }
   ],
   "source": [
    "print(area_circle(13))"
   ]
  },
  {
   "cell_type": "markdown",
   "metadata": {},
   "source": [
    "En algunas ocasiones será necesario definir más de un argumento. Por ejemplo, considerar que ahora el valor de `pi` es requerido, dado que se busca dar dinámica a el valor de precisión de `pi`."
   ]
  },
  {
   "cell_type": "code",
   "execution_count": 12,
   "metadata": {},
   "outputs": [
    {
     "name": "stdout",
     "output_type": "stream",
     "text": [
      "530.9135\n"
     ]
    }
   ],
   "source": [
    "def area_circle(pi, r):\n",
    "    return pi * r ** 2\n",
    "\n",
    "print(area_circle(3.1415, 13))"
   ]
  },
  {
   "cell_type": "markdown",
   "metadata": {},
   "source": [
    "En el ejemplo anterior, el paso de __argumentos__ se dice que es __posicional__, por que la forma que la llamada relaciona el _argumento_ a cada _parámetro_ es decuardo a la pocisión correspondiente."
   ]
  },
  {
   "cell_type": "code",
   "execution_count": 13,
   "metadata": {},
   "outputs": [
    {
     "name": "stdout",
     "output_type": "stream",
     "text": [
      "128.29728925\n"
     ]
    }
   ],
   "source": [
    "print(area_circle(13, 3.1415))"
   ]
  },
  {
   "cell_type": "markdown",
   "metadata": {},
   "source": [
    "El resultado de la llamada anterior es incorrecto, dado que se esta asociado el argumento `13` al párametro `pi` y el argumento `3.1415` al párametro `r`.\n",
    "\n",
    "Para evitar este error, se puee utilizar un __argumento de palabra clave__, como se muestra en el siguiete ejemplo:"
   ]
  },
  {
   "cell_type": "code",
   "execution_count": 15,
   "metadata": {},
   "outputs": [
    {
     "name": "stdout",
     "output_type": "stream",
     "text": [
      "530.9135\n"
     ]
    }
   ],
   "source": [
    "print(area_circle(r=13, pi=3.1415))"
   ]
  },
  {
   "cell_type": "markdown",
   "metadata": {},
   "source": [
    "Mediante el uso de lo __argumentos de palabra clave__ se puede modificar el orden durante la llamada a la función.\n",
    "\n",
    "Otra características que es muy util al trabajar con funciones es el uso de __valores por defecto__."
   ]
  },
  {
   "cell_type": "code",
   "execution_count": 17,
   "metadata": {},
   "outputs": [
    {
     "name": "stdout",
     "output_type": "stream",
     "text": [
      "530.9290480000001\n"
     ]
    }
   ],
   "source": [
    "def area_circle(r, pi=3.141592):\n",
    "    return pi * r ** 2\n",
    "\n",
    "print(area_circle(13))"
   ]
  },
  {
   "cell_type": "markdown",
   "metadata": {},
   "source": [
    "\n",
    "Observese como en la llamada del ejemplo anterior, el argumento de `pi` fue omitido, sin embargo el cálculo se realiza de manera exitosa, debido a la asignación del valor por defecto de `pi=3.141592`. \n",
    "\n",
    "__Nota__: Es importante mencionar que al utilizar argumentos posicionales y de valores por defecto se requieren que estos últimos se listen al final."
   ]
  },
  {
   "cell_type": "markdown",
   "metadata": {},
   "source": [
    "Para finalizar, consideremos que apartir de las posibilidades anteriores al momento de declarar y definir una función, existen diferentes __formas equivalentes de llamar a una función__."
   ]
  },
  {
   "cell_type": "code",
   "execution_count": 18,
   "metadata": {},
   "outputs": [
    {
     "name": "stdout",
     "output_type": "stream",
     "text": [
      "530.9290480000001\n",
      "530.9290480000001\n",
      "530.66\n",
      "530.66\n",
      "530.66\n"
     ]
    }
   ],
   "source": [
    "print(area_circle(13))\n",
    "print(area_circle(r=13))\n",
    "\n",
    "print(area_circle(13, 3.14))\n",
    "print(area_circle(r=13, pi=3.14))\n",
    "print(area_circle(pi=3.14, r=13))"
   ]
  },
  {
   "cell_type": "markdown",
   "metadata": {},
   "source": [
    "## Retorno de valores\n",
    "\n",
    "Las funciones en ocasiones, después de procesar información retornan un valoro un conjunto de valores. El valor que la función retorna es llamado __valor de retorno__.\n",
    "\n"
   ]
  },
  {
   "cell_type": "code",
   "execution_count": null,
   "metadata": {},
   "outputs": [],
   "source": [
    "def area_circle(r, pi=3.141592):\n",
    "    return pi * r ** 2\n",
    "\n",
    "print(area_circle(13))"
   ]
  },
  {
   "cell_type": "markdown",
   "metadata": {},
   "source": [
    "En los ejemplos anteriores, la forma utilizada es: __retornar un valor simple__. Incluso de puede retornar una variable o en este caso el resultado de la operación  `pi * r ** 2`."
   ]
  },
  {
   "cell_type": "code",
   "execution_count": 19,
   "metadata": {},
   "outputs": [
    {
     "name": "stdout",
     "output_type": "stream",
     "text": [
      "530.9290480000001\n"
     ]
    }
   ],
   "source": [
    "def area_circle(r, pi=3.141592):\n",
    "    area = pi * r ** 2\n",
    "    return area\n",
    "\n",
    "print(area_circle(13))"
   ]
  },
  {
   "cell_type": "markdown",
   "metadata": {},
   "source": [
    "En algunos casos, puede tomar sentido hacer un __argumento opcional__, de manera que se pueda proporcionar información extra si se requiere."
   ]
  },
  {
   "cell_type": "code",
   "execution_count": 27,
   "metadata": {},
   "outputs": [
    {
     "name": "stdout",
     "output_type": "stream",
     "text": [
      "El área del circulo es: 530.9290480000001 cm\n"
     ]
    }
   ],
   "source": [
    "def area_circle(r, pi=3.141592, unidad=''):\n",
    "    if unidad:\n",
    "        print(f'El área del circulo es: {pi * r ** 2} {unidad}') \n",
    "    else:\n",
    "        print(f'El área del circulo es: {pi * r ** 2}')\n",
    "\n",
    "area_circle(13, unidad='cm')"
   ]
  },
  {
   "cell_type": "markdown",
   "metadata": {},
   "source": []
  }
 ],
 "metadata": {
  "kernelspec": {
   "display_name": "base",
   "language": "python",
   "name": "python3"
  },
  "language_info": {
   "codemirror_mode": {
    "name": "ipython",
    "version": 3
   },
   "file_extension": ".py",
   "mimetype": "text/x-python",
   "name": "python",
   "nbconvert_exporter": "python",
   "pygments_lexer": "ipython3",
   "version": "3.12.2"
  }
 },
 "nbformat": 4,
 "nbformat_minor": 2
}
