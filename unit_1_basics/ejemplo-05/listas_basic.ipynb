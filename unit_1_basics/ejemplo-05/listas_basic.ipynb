{
 "cells": [
  {
   "cell_type": "markdown",
   "metadata": {},
   "source": [
    "# Ejemplo 5: List\n",
    "\n",
    "## 1. Objetivo(s)\n",
    "\n",
    "* Entender cuál es la sintaxis de las listas\n",
    "* Aprender las operaciones sobre listas\n",
    "* Entender el uso de métodos de listas y el uso de funciones para listas.\n",
    "\n",
    "## 2. Desarrollo:\n",
    "\n",
    "Apatir de la definición de la siguiente lista:"
   ]
  },
  {
   "cell_type": "code",
   "execution_count": 1,
   "metadata": {},
   "outputs": [
    {
     "name": "stdout",
     "output_type": "stream",
     "text": [
      "['trek', 'specialized', 'st cruz', 'cube']\n"
     ]
    }
   ],
   "source": [
    "bicycles = ['trek', 'specialized', 'st cruz', 'cube']\n",
    "print(bicycles)"
   ]
  },
  {
   "cell_type": "markdown",
   "metadata": {},
   "source": [
    "## Acceso a los elementos en un lista\n",
    "\n",
    "Las listas son colecciones ordenas, se puede acceder a cualquier elemento en un lista al indicar la posición o _índice_ de el elemento deseado. Por ejemplo:"
   ]
  },
  {
   "cell_type": "code",
   "execution_count": 2,
   "metadata": {},
   "outputs": [
    {
     "name": "stdout",
     "output_type": "stream",
     "text": [
      "trek\n"
     ]
    }
   ],
   "source": [
    "print(bicycles[0])"
   ]
  },
  {
   "cell_type": "code",
   "execution_count": 3,
   "metadata": {},
   "outputs": [
    {
     "name": "stdout",
     "output_type": "stream",
     "text": [
      "specialized\n",
      "cube\n"
     ]
    }
   ],
   "source": [
    "print(bicycles[1])\n",
    "print(bicycles[3])"
   ]
  },
  {
   "cell_type": "markdown",
   "metadata": {},
   "source": [
    "Python tiene un sintaxis especial para acceder al último elemento en una lista, mediante el índice `-1`."
   ]
  },
  {
   "cell_type": "code",
   "execution_count": 4,
   "metadata": {},
   "outputs": [
    {
     "name": "stdout",
     "output_type": "stream",
     "text": [
      "cube\n"
     ]
    }
   ],
   "source": [
    "print(bicycles[-1])"
   ]
  },
  {
   "cell_type": "markdown",
   "metadata": {},
   "source": [
    "## Modificar elementos de una lista\n",
    "\n",
    "La sintaxis para modificar elementos es através del índice a modificar, y utilizando la asignación para cambiar a un nuevo valor."
   ]
  },
  {
   "cell_type": "code",
   "execution_count": 5,
   "metadata": {},
   "outputs": [
    {
     "name": "stdout",
     "output_type": "stream",
     "text": [
      "['redline', 'specialized', 'st cruz', 'cube']\n"
     ]
    }
   ],
   "source": [
    "bicycles[0] = 'redline'\n",
    "print(bicycles)"
   ]
  },
  {
   "cell_type": "markdown",
   "metadata": {},
   "source": [
    "## Agregar elementos a la lista\n",
    "\n",
    "La forma más simple es através del método `apped()`. Los elementos se agregan al final de la lista cuando se utiliza `append`."
   ]
  },
  {
   "cell_type": "code",
   "execution_count": 6,
   "metadata": {},
   "outputs": [
    {
     "name": "stdout",
     "output_type": "stream",
     "text": [
      "['redline', 'specialized', 'st cruz', 'cube', 'trek']\n"
     ]
    }
   ],
   "source": [
    "bicycles.append('trek')\n",
    "print(bicycles)"
   ]
  },
  {
   "cell_type": "markdown",
   "metadata": {},
   "source": [
    "Se pueden agregar elemento a la lista en cualquier posición utilizando el método `insert()`. Por lo que, se tiene que especificar el índice que ocupara el nuevo elemento de la lista."
   ]
  },
  {
   "cell_type": "code",
   "execution_count": 7,
   "metadata": {},
   "outputs": [
    {
     "name": "stdout",
     "output_type": "stream",
     "text": [
      "['gravel', 'redline', 'specialized', 'st cruz', 'cube', 'trek']\n"
     ]
    }
   ],
   "source": [
    "bicycles.insert(0, 'gravel')\n",
    "print(bicycles)"
   ]
  },
  {
   "cell_type": "markdown",
   "metadata": {},
   "source": [
    "## Eliminar elementos de una lista\n",
    "\n",
    "Si se conoce la posición del elemento, se puede utilizar la declaración `del`."
   ]
  },
  {
   "cell_type": "code",
   "execution_count": 8,
   "metadata": {},
   "outputs": [
    {
     "name": "stdout",
     "output_type": "stream",
     "text": [
      "['redline', 'specialized', 'st cruz', 'cube', 'trek']\n"
     ]
    }
   ],
   "source": [
    "del bicycles[0]\n",
    "print(bicycles)"
   ]
  },
  {
   "cell_type": "markdown",
   "metadata": {},
   "source": [
    "En ocasiones se requiere utilizar el elemento eliminado de la lista, en este caso el método `pop()` es la opción ideal."
   ]
  },
  {
   "cell_type": "code",
   "execution_count": 9,
   "metadata": {},
   "outputs": [
    {
     "name": "stdout",
     "output_type": "stream",
     "text": [
      "['redline', 'specialized', 'st cruz', 'cube']\n"
     ]
    }
   ],
   "source": [
    "bicycles.pop()\n",
    "print(bicycles)"
   ]
  },
  {
   "cell_type": "markdown",
   "metadata": {},
   "source": [
    "Por defecto, `pop` borra la última posición, pero se puede utilizar para eliminar cualquier posición, al indicar el índice del elemento a eliminar."
   ]
  },
  {
   "cell_type": "code",
   "execution_count": 10,
   "metadata": {},
   "outputs": [
    {
     "name": "stdout",
     "output_type": "stream",
     "text": [
      "['redline', 'st cruz', 'cube']\n"
     ]
    }
   ],
   "source": [
    "bicycles.pop(1)\n",
    "print(bicycles)"
   ]
  },
  {
   "cell_type": "markdown",
   "metadata": {},
   "source": [
    "### Eliminar elementos por valor\n",
    "\n",
    "En ocasiones no se conoce la posición del valor que se desea elmininar de la lista. Si solo se conoce el valor, pero no el índice se utiliza el método `remove()`."
   ]
  },
  {
   "cell_type": "code",
   "execution_count": 11,
   "metadata": {},
   "outputs": [
    {
     "name": "stdout",
     "output_type": "stream",
     "text": [
      "['redline', 'cube']\n"
     ]
    }
   ],
   "source": [
    "bicycles.remove('st cruz')\n",
    "print(bicycles)"
   ]
  },
  {
   "cell_type": "markdown",
   "metadata": {},
   "source": [
    "⚠️ Cuidado con el acceso a elementos no exitente:"
   ]
  },
  {
   "cell_type": "code",
   "execution_count": 12,
   "metadata": {},
   "outputs": [
    {
     "ename": "IndexError",
     "evalue": "list index out of range",
     "output_type": "error",
     "traceback": [
      "\u001b[0;31m---------------------------------------------------------------------------\u001b[0m",
      "\u001b[0;31mIndexError\u001b[0m                                Traceback (most recent call last)",
      "Cell \u001b[0;32mIn[12], line 1\u001b[0m\n\u001b[0;32m----> 1\u001b[0m bicycles[\u001b[38;5;241m7\u001b[39m]\n",
      "\u001b[0;31mIndexError\u001b[0m: list index out of range"
     ]
    }
   ],
   "source": [
    "bicycles[7]"
   ]
  }
 ],
 "metadata": {
  "kernelspec": {
   "display_name": "base",
   "language": "python",
   "name": "python3"
  },
  "language_info": {
   "codemirror_mode": {
    "name": "ipython",
    "version": 3
   },
   "file_extension": ".py",
   "mimetype": "text/x-python",
   "name": "python",
   "nbconvert_exporter": "python",
   "pygments_lexer": "ipython3",
   "version": "3.12.2"
  }
 },
 "nbformat": 4,
 "nbformat_minor": 2
}
