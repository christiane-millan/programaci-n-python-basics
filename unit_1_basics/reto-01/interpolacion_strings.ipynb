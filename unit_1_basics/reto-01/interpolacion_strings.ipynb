{
 "cells": [
  {
   "cell_type": "markdown",
   "metadata": {},
   "source": [
    "# Reto 1. Interpolación de strings\n",
    "\n",
    "## 1. Objetivos\n",
    "\n",
    "- Practicar interpolación de strings\n",
    "\n",
    "## 2. Desarrollo\n",
    "\n",
    "A continuación se tiene las siguientes variables"
   ]
  },
  {
   "cell_type": "code",
   "execution_count": null,
   "metadata": {},
   "outputs": [],
   "source": [
    "nombre_1 = \"Jenny\"\n",
    "nombre_2 = \"Marco P.\"\n",
    "\n",
    "edad_1 = 110\n",
    "edad_2 = 42\n",
    "\n",
    "estrella_1 = \"Woopsie Doopsies\"\n",
    "estrella_2 = \"Omega-3\"\n",
    "estrella_3 = \"Justin Bieber\"\n",
    "estrella_4 = \"La Twinkle\"\n",
    "estrella_5 = \"Rosaberta\"\n",
    "\n",
    "total_de_nombres_de_estrellas_mencionados = 5\n",
    "numero_de_estrellas_deseadas = 325"
   ]
  },
  {
   "cell_type": "markdown",
   "metadata": {},
   "source": [
    "Usando __TODAS__ las variables de arriba, crea una (o más) string que, al correr la celda, imprima la siguiente historia:\n",
    "\n",
    ">\"Marco P. y Jenny son grandes amigues. Les mejores. Van y vienen juntes desde hace décadas. Sí, décadas. Marco P. tiene 110 años y Jenny 42. Si sumas sus edades, obtienes 152, que curiosamente es el número de estrellas que Marco P. y Jenny han nombrado juntes. Sus estrellas son su mayor fascinación. Las compraron en Best Buy en una ganga de objetos celestes. Están 'Woopsie Doopsies', 'Omega-3', 'Justin Bieber', 'La Twinkle', 'Rosaberta' y otras 147 estrellas más. Marco P. y Jenny tienen planeado sobrevivir hasta el siglo XXII. ¡Cuántas estrellas más habrán de comprar y nombrar juntes! Su meta es 325. Sólo faltan 173. ¡Vamos Marco P. y Jenny! Marco P. y Jenny son les mejores amigues. No hay duda alguna.\"\n",
    "\n",
    "Recuerda utilizar TODAS las variables que hemos asignado. También, todos los números que aparezcan en el texto deben de ser variables interpoladas u operaciones aritméticas. Ningún número puede ser una string simple.\n",
    "\n"
   ]
  },
  {
   "cell_type": "code",
   "execution_count": null,
   "metadata": {},
   "outputs": [],
   "source": [
    "#TODO\n",
    "\n"
   ]
  }
 ],
 "metadata": {
  "language_info": {
   "name": "python"
  }
 },
 "nbformat": 4,
 "nbformat_minor": 2
}
