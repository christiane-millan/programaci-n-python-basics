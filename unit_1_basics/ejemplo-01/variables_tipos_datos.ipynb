{
 "cells": [
  {
   "cell_type": "markdown",
   "metadata": {},
   "source": [
    "# Ejemplo 1: Variables\n",
    "\n",
    "## 1. Objetivo(s)\n",
    "\n",
    "* Entender cuál es la sintaxis de la asignación de variables\n",
    "* Aprender la convención de los identificadores de variables\n",
    "* Entender la implementación e identificación de los tipos de datos\n",
    "\n",
    "## 2. Desarrollo:\n",
    "\n",
    "### Variables \n",
    "\n",
    "Al utilizar variables en Python, es necesario sujetarse a ciertas reglas y recomendaciones. En algunos casos, romper alguna regla causara errores, otras recomendaciones ayudan a escribir códigos más fáciles de leer y entender\n",
    "\n",
    "Asegúrate de mantener estas reglas presentes: \n",
    "\n",
    "- Los nombres de variables solo pueden tener letras, números y guión bajo. Deben comenzar con una letra o guión bajo, pero no con un número. Por ejemplo, se pude llamar a una variable `number_1` pero no, `1_number`.\n",
    "- Los espacios no están permitidos en los nombres de variables, pero los guiones bajos pueden ser utiles para separa palabras, por ejemplo: `gretting_message` es correcto, pero `gretting message` causaría error.\n",
    "- Evitar el uso de palabras clave de Python y nombres de funciones como nombres de variables, es decir, no utilizar palabras que Python reserva para un propósito gramatical en particular, como el caso de la palabra `print.`\n",
    "- Los nombres de variables deber ser cortas pero descriptivas. Por ejemplo, `name` es mejor que `n`, `student_name` es mejor que `s_n`, y `name_length` es mejor que `length_of_person_name`.\n",
    "- Tener cuidado al utilizar la letra minúscula `l` y la letra mayúscula `O`  ya que se pueden confundir con el `1` y el `0`.\n",
    "- Las variables deber ser definidas con letras minúsculas, no ocurrirán errores en el caso de utilizar mayúsculas.\n",
    "\n",
    "__Ejemplos__ de identificadores validos para variables siguiente el estilo _snake_case_ en Python:\n",
    "\n",
    "* `var_1`\n",
    "* `number_2`\n",
    "* `numbre_two`\n",
    "* `data_set_3`\n",
    "* `new_customer_service`\n",
    "\n",
    "Ejemplos de identificadore no validos:\n",
    "\n",
    "* `1_2`\n",
    "* `1_var`\n",
    "* `numberTwo`\n",
    "* `DataSetThree`\n",
    "* `new customer service`\n",
    "\n",
    "__Asignación de variables__"
   ]
  },
  {
   "cell_type": "code",
   "execution_count": 1,
   "metadata": {},
   "outputs": [],
   "source": [
    "lives = 3\n",
    "level = 6\n",
    "heart = 9.5\n",
    "golden_coins = 20"
   ]
  },
  {
   "cell_type": "markdown",
   "metadata": {},
   "source": [
    "En Jupyter Notebook, podemos conocer el contenido con tan solo escribir el nombre de la variable en una celda y ejucutar "
   ]
  },
  {
   "cell_type": "code",
   "execution_count": 2,
   "metadata": {},
   "outputs": [
    {
     "data": {
      "text/plain": [
       "3"
      ]
     },
     "execution_count": 2,
     "metadata": {},
     "output_type": "execute_result"
    }
   ],
   "source": [
    "lives"
   ]
  },
  {
   "cell_type": "code",
   "execution_count": 3,
   "metadata": {},
   "outputs": [
    {
     "data": {
      "text/plain": [
       "20"
      ]
     },
     "execution_count": 3,
     "metadata": {},
     "output_type": "execute_result"
    }
   ],
   "source": [
    "golden_coins"
   ]
  },
  {
   "cell_type": "markdown",
   "metadata": {},
   "source": [
    "Si el identificador de la variable es incorrecto o no ha sido asignado, Jupyter Notebook lanzará un error"
   ]
  },
  {
   "cell_type": "code",
   "execution_count": 4,
   "metadata": {},
   "outputs": [
    {
     "ename": "NameError",
     "evalue": "name 'rounds' is not defined",
     "output_type": "error",
     "traceback": [
      "\u001b[0;31m---------------------------------------------------------------------------\u001b[0m",
      "\u001b[0;31mNameError\u001b[0m                                 Traceback (most recent call last)",
      "Cell \u001b[0;32mIn[4], line 1\u001b[0m\n\u001b[0;32m----> 1\u001b[0m rounds\n",
      "\u001b[0;31mNameError\u001b[0m: name 'rounds' is not defined"
     ]
    }
   ],
   "source": [
    "rounds"
   ]
  },
  {
   "cell_type": "code",
   "execution_count": 5,
   "metadata": {},
   "outputs": [
    {
     "ename": "NameError",
     "evalue": "name 'golden_coin' is not defined",
     "output_type": "error",
     "traceback": [
      "\u001b[0;31m---------------------------------------------------------------------------\u001b[0m",
      "\u001b[0;31mNameError\u001b[0m                                 Traceback (most recent call last)",
      "Cell \u001b[0;32mIn[5], line 1\u001b[0m\n\u001b[0;32m----> 1\u001b[0m golden_coin\n",
      "\u001b[0;31mNameError\u001b[0m: name 'golden_coin' is not defined"
     ]
    }
   ],
   "source": [
    "golden_coin"
   ]
  },
  {
   "cell_type": "code",
   "execution_count": 6,
   "metadata": {},
   "outputs": [],
   "source": [
    "\n",
    "rounds = 3"
   ]
  },
  {
   "cell_type": "code",
   "execution_count": 7,
   "metadata": {},
   "outputs": [
    {
     "data": {
      "text/plain": [
       "3"
      ]
     },
     "execution_count": 7,
     "metadata": {},
     "output_type": "execute_result"
    }
   ],
   "source": [
    "rounds"
   ]
  },
  {
   "cell_type": "markdown",
   "metadata": {},
   "source": [
    "__Code Snippe__: Calcular el BIM\n",
    "\n",
    "$BMI = \\frac{weight}{height^2}$"
   ]
  },
  {
   "cell_type": "code",
   "execution_count": 16,
   "metadata": {},
   "outputs": [
    {
     "name": "stdout",
     "output_type": "stream",
     "text": [
      "21.44127836209856\n"
     ]
    }
   ],
   "source": [
    "height = 1.79\n",
    "weight = 68.7\n",
    "\n",
    "bmi = weight / height ** 2\n",
    "\n",
    "print(bmi)"
   ]
  },
  {
   "cell_type": "markdown",
   "metadata": {},
   "source": [
    "### Tipos de datos\n",
    "\n",
    "Las __cadenas o strings__ es una serie de caracteres. Cualqueir cosa dentro de comillas es considerado como una cadena en Python. Se puede utilizar comillas simples `'` o dobles `\"` para delimitar una cadena:"
   ]
  },
  {
   "cell_type": "code",
   "execution_count": 8,
   "metadata": {},
   "outputs": [
    {
     "name": "stdout",
     "output_type": "stream",
     "text": [
      "Esto es una cadena o string\n",
      "Esto es una cadena o string\n",
      "Las hamguesas de \"BurgerKing\" son mis favoritas\n",
      "No me gusta la pizza con 'piña'\n",
      "Los martes hay oferta en pepe's pizza\n"
     ]
    }
   ],
   "source": [
    "print('Esto es una cadena o string')\n",
    "print(\"Esto es una cadena o string\")\n",
    "print('Las hamguesas de \"BurgerKing\" son mis favoritas')\n",
    "print(\"No me gusta la pizza con 'piña'\")\n",
    "print(\"Los martes hay oferta en pepe's pizza\")"
   ]
  },
  {
   "cell_type": "markdown",
   "metadata": {},
   "source": [
    "Algunas fuciones básicas de manipulación de cadenas"
   ]
  },
  {
   "cell_type": "code",
   "execution_count": 9,
   "metadata": {},
   "outputs": [
    {
     "name": "stdout",
     "output_type": "stream",
     "text": [
      "Thom Yorke\n",
      "THOM YORKE\n",
      "thom yorke\n"
     ]
    }
   ],
   "source": [
    "name = \"thom Yorke\"\n",
    "\n",
    "print(name.title())\n",
    "print(name.upper())\n",
    "print(name.lower())"
   ]
  },
  {
   "cell_type": "markdown",
   "metadata": {},
   "source": []
  },
  {
   "cell_type": "code",
   "execution_count": 10,
   "metadata": {},
   "outputs": [
    {
     "name": "stdout",
     "output_type": "stream",
     "text": [
      "Hello, Thom Yorke!\n"
     ]
    }
   ],
   "source": [
    "first_name = \"thom\"\n",
    "last_name = \"yorke\"\n",
    "full_name = first_name + \" \" + last_name\n",
    "\n",
    "message = \"Hello, \" + full_name.title() + \"!\"\n",
    "print(message)\n"
   ]
  },
  {
   "cell_type": "markdown",
   "metadata": {},
   "source": [
    "Los __números__ en Python son tratados de distintas formas, dependiente del uso: enteros, punto flotante. En el caso de utilizar una variable numérica con strins, es necesario evitar errores."
   ]
  },
  {
   "cell_type": "code",
   "execution_count": 11,
   "metadata": {},
   "outputs": [
    {
     "ename": "TypeError",
     "evalue": "can only concatenate str (not \"int\") to str",
     "output_type": "error",
     "traceback": [
      "\u001b[0;31m---------------------------------------------------------------------------\u001b[0m",
      "\u001b[0;31mTypeError\u001b[0m                                 Traceback (most recent call last)",
      "Cell \u001b[0;32mIn[11], line 2\u001b[0m\n\u001b[1;32m      1\u001b[0m age \u001b[38;5;241m=\u001b[39m \u001b[38;5;241m23\u001b[39m\n\u001b[0;32m----> 2\u001b[0m message \u001b[38;5;241m=\u001b[39m \u001b[38;5;124m\"\u001b[39m\u001b[38;5;124mHappy \u001b[39m\u001b[38;5;124m\"\u001b[39m \u001b[38;5;241m+\u001b[39m age \u001b[38;5;241m+\u001b[39m \u001b[38;5;124m\"\u001b[39m\u001b[38;5;124mrd Birthday!\u001b[39m\u001b[38;5;124m\"\u001b[39m\n\u001b[1;32m      4\u001b[0m \u001b[38;5;28mprint\u001b[39m(message)\n",
      "\u001b[0;31mTypeError\u001b[0m: can only concatenate str (not \"int\") to str"
     ]
    }
   ],
   "source": [
    "age = 23\n",
    "message = \"Happy \" + age + \"rd Birthday!\"\n",
    "\n",
    "print(message)"
   ]
  },
  {
   "cell_type": "markdown",
   "metadata": {},
   "source": [
    "La función `srt()` convierte la variable `age` a cadena."
   ]
  },
  {
   "cell_type": "code",
   "execution_count": 12,
   "metadata": {},
   "outputs": [
    {
     "name": "stdout",
     "output_type": "stream",
     "text": [
      "Happy 23rd Birthday!\n"
     ]
    }
   ],
   "source": [
    "age = 23\n",
    "message = \"Happy \" + str(age) + \"rd Birthday!\"\n",
    "\n",
    "print(message)"
   ]
  },
  {
   "cell_type": "markdown",
   "metadata": {},
   "source": [
    "La función `type()` perimite conocer el tipo de dato de una variables "
   ]
  },
  {
   "cell_type": "code",
   "execution_count": 13,
   "metadata": {},
   "outputs": [
    {
     "data": {
      "text/plain": [
       "int"
      ]
     },
     "execution_count": 13,
     "metadata": {},
     "output_type": "execute_result"
    }
   ],
   "source": [
    "type(lives)"
   ]
  },
  {
   "cell_type": "code",
   "execution_count": 14,
   "metadata": {},
   "outputs": [
    {
     "data": {
      "text/plain": [
       "float"
      ]
     },
     "execution_count": 14,
     "metadata": {},
     "output_type": "execute_result"
    }
   ],
   "source": [
    "type(heart)"
   ]
  },
  {
   "cell_type": "code",
   "execution_count": 15,
   "metadata": {},
   "outputs": [
    {
     "data": {
      "text/plain": [
       "str"
      ]
     },
     "execution_count": 15,
     "metadata": {},
     "output_type": "execute_result"
    }
   ],
   "source": [
    "type(message)"
   ]
  }
 ],
 "metadata": {
  "kernelspec": {
   "display_name": "base",
   "language": "python",
   "name": "python3"
  },
  "language_info": {
   "codemirror_mode": {
    "name": "ipython",
    "version": 3
   },
   "file_extension": ".py",
   "mimetype": "text/x-python",
   "name": "python",
   "nbconvert_exporter": "python",
   "pygments_lexer": "ipython3",
   "version": "3.12.2"
  }
 },
 "nbformat": 4,
 "nbformat_minor": 2
}
