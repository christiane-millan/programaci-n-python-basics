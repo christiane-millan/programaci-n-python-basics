{
 "cells": [
  {
   "cell_type": "markdown",
   "metadata": {},
   "source": [
    "# Ejemplo 3: Interpolación de strings\n",
    "\n",
    "## 1. Objetivos\n",
    "\n",
    "- Aprender a imprimir strings\n",
    "- Aprensde a interpolar variables dentro de strings\n",
    "\n",
    "---\n",
    "\n",
    "## 2. Desarrollo:\n",
    "\n",
    "Es posible realizar anotaciona a los _outputs_ de un programa de la siguiente manera:"
   ]
  },
  {
   "cell_type": "code",
   "execution_count": 1,
   "metadata": {},
   "outputs": [
    {
     "name": "stdout",
     "output_type": "stream",
     "text": [
      "Total de la cuenta:\n",
      "16.7\n"
     ]
    }
   ],
   "source": [
    "total = 15.3\n",
    "tip = 1.4\n",
    "\n",
    "print(\"Total de la cuenta:\")\n",
    "print(total + tip)"
   ]
  },
  {
   "cell_type": "markdown",
   "metadata": {},
   "source": [
    "El formato de string mediante `f-string` permite mejorar la compresión de las salidas.\n",
    "\n",
    "```python\n",
    "f\"Esto es texto {esto es una variable} esto es más texto\"\n",
    "\n",
    "```\n",
    "\n",
    "El uso de `f` antes de las comillas indica a Python que la cadena sera interpolada con las variables que son indicadas mediante (`{}`)."
   ]
  },
  {
   "cell_type": "code",
   "execution_count": 2,
   "metadata": {},
   "outputs": [
    {
     "name": "stdout",
     "output_type": "stream",
     "text": [
      "Total de la cuenta es: 16.7\n"
     ]
    }
   ],
   "source": [
    "total = 15.3\n",
    "tip = 1.4\n",
    "\n",
    "grand_total = total + tip \n",
    "\n",
    "print(f\"Total de la cuenta es: {grand_total}\")"
   ]
  },
  {
   "cell_type": "code",
   "execution_count": 3,
   "metadata": {},
   "outputs": [
    {
     "name": "stdout",
     "output_type": "stream",
     "text": [
      "La suma del total 15.3 y la propina 1.4 es: 16.7\n"
     ]
    }
   ],
   "source": [
    "print(f\"La suma del total {total} y la propina {tip} es: {grand_total}\")"
   ]
  }
 ],
 "metadata": {
  "kernelspec": {
   "display_name": "base",
   "language": "python",
   "name": "python3"
  },
  "language_info": {
   "codemirror_mode": {
    "name": "ipython",
    "version": 3
   },
   "file_extension": ".py",
   "mimetype": "text/x-python",
   "name": "python",
   "nbconvert_exporter": "python",
   "pygments_lexer": "ipython3",
   "version": "3.12.2"
  }
 },
 "nbformat": 4,
 "nbformat_minor": 2
}
